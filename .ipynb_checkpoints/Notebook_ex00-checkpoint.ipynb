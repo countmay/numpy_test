{
 "cells": [
  {
   "cell_type": "markdown",
   "id": "c559191d-fc81-415d-9e16-c109c155abb7",
   "metadata": {},
   "source": [
    "# H1 TITLE\n",
    "<h2>H2 TITLE<h2>"
   ]
  },
  {
   "cell_type": "code",
   "execution_count": 1,
   "id": "9c48e453-2ac3-49b9-b0cf-f2e4bbd3d616",
   "metadata": {},
   "outputs": [
    {
     "name": "stdout",
     "output_type": "stream",
     "text": [
      "Buy the dip ?\n"
     ]
    }
   ],
   "source": [
    "print(\"Buy the dip ?\")"
   ]
  },
  {
   "cell_type": "markdown",
   "id": "b3327ed0-8e5a-45e1-a579-ed6d096617a5",
   "metadata": {},
   "source": [
    "The objective of this exercise is to familiarize yourself with incorporating various Python data types into NumPy arrays. NumPy arrays play a vital role in both NumPy and Pandas, offering flexibility and optimized functionalities.\n",
    "\n",
    "1. Create a NumPy array that contains: an integer, a float, a string, a dictionary, a list, a tuple, a set and a boolean. Add the following code at the end of your python file or in a cell of the jupyter notebook:"
   ]
  },
  {
   "cell_type": "code",
   "execution_count": 2,
   "id": "4a197da2-2a52-48a7-b4c3-ec889b5193f2",
   "metadata": {},
   "outputs": [],
   "source": [
    "import numpy as np"
   ]
  },
  {
   "cell_type": "code",
   "execution_count": 6,
   "id": "c526d087-2140-4cec-a724-71fea820acce",
   "metadata": {},
   "outputs": [],
   "source": [
    "your_np_array=np.array([2,5.4,\"str\", {\"dict\":\"b\"}, [\"list\", \"banana\", \"cherry\"], (\"tuple\", \"banana\", \"cherry\"), {\"set\", \"banana\", \"cherry\"}, True], dtype=object)"
   ]
  },
  {
   "cell_type": "code",
   "execution_count": 7,
   "id": "10def912-f835-4a02-b7a8-7afcdc77d389",
   "metadata": {},
   "outputs": [
    {
     "name": "stdout",
     "output_type": "stream",
     "text": [
      "<class 'int'>\n",
      "<class 'float'>\n",
      "<class 'str'>\n",
      "<class 'dict'>\n",
      "<class 'list'>\n",
      "<class 'tuple'>\n",
      "<class 'set'>\n",
      "<class 'bool'>\n"
     ]
    }
   ],
   "source": [
    "for i in your_np_array:\n",
    "    print(type(i))"
   ]
  },
  {
   "cell_type": "markdown",
   "id": "d64cc05c-ead1-4d63-87a8-136c5babf213",
   "metadata": {},
   "source": [
    "The goal of this exercise is to learn to create a NumPy array with 0s.\n",
    "\n",
    "1. Create a NumPy array of dimension 300 with zeros without filling it manually\n",
    "2. Reshape it to (3,100)"
   ]
  },
  {
   "cell_type": "code",
   "execution_count": 2,
   "id": "8512aff7-9761-40ff-9a5b-4617000aeb7b",
   "metadata": {},
   "outputs": [],
   "source": [
    "arr1=np.zeros(300,dtype=int)"
   ]
  },
  {
   "cell_type": "code",
   "execution_count": 9,
   "id": "8f88d918-2f74-4650-8840-f3d16f17046d",
   "metadata": {},
   "outputs": [
    {
     "name": "stdout",
     "output_type": "stream",
     "text": [
      "[0 0 0 0 0 0 0 0 0 0 0 0 0 0 0 0 0 0 0 0 0 0 0 0 0 0 0 0 0 0 0 0 0 0 0 0 0\n",
      " 0 0 0 0 0 0 0 0 0 0 0 0 0 0 0 0 0 0 0 0 0 0 0 0 0 0 0 0 0 0 0 0 0 0 0 0 0\n",
      " 0 0 0 0 0 0 0 0 0 0 0 0 0 0 0 0 0 0 0 0 0 0 0 0 0 0 0 0 0 0 0 0 0 0 0 0 0\n",
      " 0 0 0 0 0 0 0 0 0 0 0 0 0 0 0 0 0 0 0 0 0 0 0 0 0 0 0 0 0 0 0 0 0 0 0 0 0\n",
      " 0 0 0 0 0 0 0 0 0 0 0 0 0 0 0 0 0 0 0 0 0 0 0 0 0 0 0 0 0 0 0 0 0 0 0 0 0\n",
      " 0 0 0 0 0 0 0 0 0 0 0 0 0 0 0 0 0 0 0 0 0 0 0 0 0 0 0 0 0 0 0 0 0 0 0 0 0\n",
      " 0 0 0 0 0 0 0 0 0 0 0 0 0 0 0 0 0 0 0 0 0 0 0 0 0 0 0 0 0 0 0 0 0 0 0 0 0\n",
      " 0 0 0 0 0 0 0 0 0 0 0 0 0 0 0 0 0 0 0 0 0 0 0 0 0 0 0 0 0 0 0 0 0 0 0 0 0\n",
      " 0 0 0 0]\n"
     ]
    }
   ],
   "source": [
    "print(arr1)"
   ]
  },
  {
   "cell_type": "code",
   "execution_count": 6,
   "id": "9c30a91a-50b0-4152-94ff-bbc4ee23f57d",
   "metadata": {},
   "outputs": [],
   "source": [
    "arr1=np.append(arr1, np.zeros(2800,dtype=int))"
   ]
  },
  {
   "cell_type": "code",
   "execution_count": 7,
   "id": "24a8d7f3-e351-4910-a3b3-424e16f3b95c",
   "metadata": {},
   "outputs": [
    {
     "data": {
      "text/plain": [
       "(3100,)"
      ]
     },
     "execution_count": 7,
     "metadata": {},
     "output_type": "execute_result"
    }
   ],
   "source": [
    "arr1.shape"
   ]
  },
  {
   "cell_type": "markdown",
   "id": "c4ef6941-f7b8-4d1d-bbf6-501d7f2d5bbf",
   "metadata": {},
   "source": [
    "The goal of this exercise is to learn NumPy indexing/slicing. It allows to access values of the NumPy array efficiently and without a for loop.\n",
    "\n",
    "1. Create a NumPy array of dimension 1 that contains all integers from 1 to 100 ordered.\n",
    "\n",
    "2. Without using a for loop and using the array created in Q1, create an array that contain all odd integers. The expected output is:"
   ]
  },
  {
   "cell_type": "code",
   "execution_count": 8,
   "id": "027e7453-0cd5-497b-96ed-e3018265e59f",
   "metadata": {},
   "outputs": [
    {
     "name": "stdout",
     "output_type": "stream",
     "text": [
      "[  1   2   3   4   5   6   7   8   9  10  11  12  13  14  15  16  17  18\n",
      "  19  20  21  22  23  24  25  26  27  28  29  30  31  32  33  34  35  36\n",
      "  37  38  39  40  41  42  43  44  45  46  47  48  49  50  51  52  53  54\n",
      "  55  56  57  58  59  60  61  62  63  64  65  66  67  68  69  70  71  72\n",
      "  73  74  75  76  77  78  79  80  81  82  83  84  85  86  87  88  89  90\n",
      "  91  92  93  94  95  96  97  98  99 100]\n"
     ]
    }
   ],
   "source": [
    "arr2=np.arange(1,101)\n",
    "print(arr2)"
   ]
  },
  {
   "cell_type": "code",
   "execution_count": 9,
   "id": "b83df2d5-31a8-4d20-bd7f-794f0e0c0597",
   "metadata": {},
   "outputs": [
    {
     "name": "stdout",
     "output_type": "stream",
     "text": [
      "[ 1  3  5  7  9 11 13 15 17 19 21 23 25 27 29 31 33 35 37 39 41 43 45 47\n",
      " 49 51 53 55 57 59 61 63 65 67 69 71 73 75 77 79 81 83 85 87 89 91 93 95\n",
      " 97 99]\n"
     ]
    }
   ],
   "source": [
    "arr_odd=np.arange(1,101,2)\n",
    "print(arr_odd)"
   ]
  },
  {
   "cell_type": "markdown",
   "id": "374eb5d0-edb3-4685-9abd-4a975358da85",
   "metadata": {},
   "source": [
    "3. Without using a for loop and using the array created in Q1, create an array that contain all even integers reversed. The expected output is:"
   ]
  },
  {
   "cell_type": "code",
   "execution_count": 16,
   "id": "0399ee76-3ef8-4962-b65d-3a9d5bd1943c",
   "metadata": {},
   "outputs": [
    {
     "name": "stdout",
     "output_type": "stream",
     "text": [
      "[100  98  96  94  92  90  88  86  84  82  80  78  76  74  72  70  68  66\n",
      "  64  62  60  58  56  54  52  50  48  46  44  42  40  38  36  34  32  30\n",
      "  28  26  24  22  20  18  16  14  12  10   8   6   4   2]\n"
     ]
    }
   ],
   "source": [
    "arr_even=np.arange(100,1,-2)\n",
    "print(arr_even)"
   ]
  },
  {
   "cell_type": "markdown",
   "id": "fe7de1a4-a9ad-4243-a222-26546428b9ba",
   "metadata": {},
   "source": [
    "4. Using array of Q1, set the value of every 3 elements of the list (starting with the second) to 0. The expected output is:"
   ]
  },
  {
   "cell_type": "code",
   "execution_count": 17,
   "id": "bcee6eb7-73fb-4cf9-8732-c203e5374113",
   "metadata": {},
   "outputs": [
    {
     "name": "stdout",
     "output_type": "stream",
     "text": [
      "[  1   0   3   4   0   6   7   0   9  10   0  12  13   0  15  16   0  18\n",
      "  19   0  21  22   0  24  25   0  27  28   0  30  31   0  33  34   0  36\n",
      "  37   0  39  40   0  42  43   0  45  46   0  48  49   0  51  52   0  54\n",
      "  55   0  57  58   0  60  61   0  63  64   0  66  67   0  69  70   0  72\n",
      "  73   0  75  76   0  78  79   0  81  82   0  84  85   0  87  88   0  90\n",
      "  91   0  93  94   0  96  97   0  99 100]\n"
     ]
    }
   ],
   "source": [
    "arr2[1:100:3]=0\n",
    "print(arr2)"
   ]
  },
  {
   "cell_type": "markdown",
   "id": "98358d31-b15c-4a91-ae65-72e0146324f5",
   "metadata": {},
   "source": [
    "Random Generator\n",
    "\n",
    "1. Set the seed to 888\n",
    "2. Generate a one-dimensional array of size 100 with a normal distribution\n",
    "3. Generate a two-dimensional array of size 8,8 with random integers from 1 to 10 - both included (same probability for each integer)\n",
    "4. Generate a three-dimensional of size 4,2,5 array with random integers from 1 to 17 - both included (same probability for each integer)"
   ]
  },
  {
   "cell_type": "code",
   "execution_count": 18,
   "id": "65369ded-f998-46cf-9c50-2cd248822ed8",
   "metadata": {},
   "outputs": [],
   "source": [
    "np.random.seed(888)"
   ]
  },
  {
   "cell_type": "code",
   "execution_count": 19,
   "id": "2e0419f0-9e3c-4ed5-a8a8-90ed69fb5643",
   "metadata": {},
   "outputs": [
    {
     "name": "stdout",
     "output_type": "stream",
     "text": [
      "[-1.76200874e-01  1.88876361e-01  8.26747180e-01 -3.24473146e-02\n",
      " -6.52499418e-01 -1.05339382e-01  2.17776116e-01  5.87281504e-01\n",
      "  1.00237892e-01 -1.09994668e+00 -2.55305389e-01  4.05304381e-01\n",
      "  1.62663953e-01  1.04163462e+00  2.24324184e-01  6.99304449e-01\n",
      " -8.65543512e-01 -1.39346831e+00 -2.36687913e-01 -7.57041911e-01\n",
      "  1.31429195e+00 -9.77385899e-01 -3.59032576e-01  1.16141585e-01\n",
      " -3.51081138e-01 -4.39838344e-01 -4.90995473e-02 -4.31596770e-01\n",
      " -1.08875099e+00 -2.31088106e+00 -1.86236420e+00  2.34708674e-01\n",
      " -8.95585921e-01 -5.40834525e-01 -4.02399061e-01  2.31458561e-02\n",
      "  1.77688506e-01 -5.73309272e-01 -3.38392138e-01 -2.64422114e-03\n",
      "  1.44930339e+00  1.36605641e+00  2.69187461e+00  6.76065035e-01\n",
      " -1.06098418e+00  1.31845313e-01  1.71934297e-01  8.88062794e-02\n",
      "  1.03963016e+00 -1.37846942e-01 -3.69232844e-01  3.19587912e+00\n",
      "  1.11457451e+00 -2.59516296e-01  1.48370897e+00 -1.57049065e+00\n",
      "  9.78899330e-01  1.76070681e+00  3.53121953e-01 -3.08510762e-01\n",
      " -1.40481067e+00 -6.54547811e-01 -1.37791290e+00 -2.42605914e-01\n",
      " -1.17542916e+00  6.96400848e-01  2.84105779e-01 -1.01948195e+00\n",
      "  1.09675079e+00  2.41646711e-01 -3.67039678e-01 -2.19894776e+00\n",
      "  1.41872937e+00  2.20794136e-01  7.92524915e-01 -2.23775806e-01\n",
      " -6.96694068e-01 -9.17717925e-01 -1.47199487e+00  1.87770559e+00\n",
      "  1.51033108e+00  1.18732817e-01  6.50728248e-01 -7.07655562e-01\n",
      "  1.69862924e+00  1.34663117e+00  5.26657670e-01 -6.13561456e-01\n",
      " -1.79179012e-01 -1.28634991e+00  1.41675325e+00 -1.81351151e-01\n",
      " -1.02037575e-01 -6.03250569e-01  1.20489600e+00  9.62265746e-01\n",
      "  8.61170433e-01  1.96244237e+00 -1.15548773e+00  3.45259423e-01]\n"
     ]
    }
   ],
   "source": [
    "arr_rand=np.random.randn(100)\n",
    "print(arr_rand)"
   ]
  },
  {
   "cell_type": "code",
   "execution_count": 20,
   "id": "2a5a40b7-de29-494e-96be-351de1cd21c8",
   "metadata": {},
   "outputs": [
    {
     "name": "stdout",
     "output_type": "stream",
     "text": [
      "[[ 9  8  4  6  9  1  3  2]\n",
      " [ 3  9  9  5  4  7  2  8]\n",
      " [ 5  6  9  1  1  6  8  7]\n",
      " [ 7  1  4  1 10  4  3  5]\n",
      " [ 5 10  1 10  7 10  6  1]\n",
      " [ 6  8  7  4  6 10  3  5]\n",
      " [ 4 10  7  9  9 10  9  9]\n",
      " [ 5  3  2 10  8  5  5  3]]\n"
     ]
    }
   ],
   "source": [
    "arr_rand2=np.random.randint(1,11, size=(8,8))\n",
    "print(arr_rand2)"
   ]
  },
  {
   "cell_type": "code",
   "execution_count": 24,
   "id": "4021cc31-fac6-4f53-90d0-3a7db0b8a8f9",
   "metadata": {},
   "outputs": [
    {
     "name": "stdout",
     "output_type": "stream",
     "text": [
      "[[[ 5  2 13 16 15]\n",
      "  [ 5  5  2 11  3]]\n",
      "\n",
      " [[ 8 13  6  4 17]\n",
      "  [ 2  8  1 13 10]]\n",
      "\n",
      " [[12 17 17 12  1]\n",
      "  [10  8 17  5 11]]\n",
      "\n",
      " [[ 9 14  2 15 13]\n",
      "  [12 14  6 14  2]]]\n"
     ]
    }
   ],
   "source": [
    "arr_rand3=np.random.randint(1,18, size=(4,2,5))\n",
    "print(arr_rand3)\n"
   ]
  },
  {
   "cell_type": "markdown",
   "id": "1d802b53-4453-409e-9e58-e37e58a7a85a",
   "metadata": {},
   "source": [
    "The goal of this exercise is to learn to concatenate and reshape arrays."
   ]
  },
  {
   "cell_type": "markdown",
   "id": "6f92f8a9-d625-432b-9006-6c5047648803",
   "metadata": {},
   "source": [
    "1. Generate an array with integers from 1 to 50: array([1,...,50])"
   ]
  },
  {
   "cell_type": "code",
   "execution_count": 25,
   "id": "bdc2af1b-f759-4563-bdb0-0a1f0a0d6d7a",
   "metadata": {},
   "outputs": [
    {
     "name": "stdout",
     "output_type": "stream",
     "text": [
      "[ 1  2  3  4  5  6  7  8  9 10 11 12 13 14 15 16 17 18 19 20 21 22 23 24\n",
      " 25 26 27 28 29 30 31 32 33 34 35 36 37 38 39 40 41 42 43 44 45 46 47 48\n",
      " 49 50]\n"
     ]
    }
   ],
   "source": [
    "new_arr=np.arange(1,51)\n",
    "print(new_arr)"
   ]
  },
  {
   "cell_type": "code",
   "execution_count": 26,
   "id": "4186ef15-c6b3-48b0-983f-86e99bb335c4",
   "metadata": {},
   "outputs": [
    {
     "name": "stdout",
     "output_type": "stream",
     "text": [
      "[ 51  52  53  54  55  56  57  58  59  60  61  62  63  64  65  66  67  68\n",
      "  69  70  71  72  73  74  75  76  77  78  79  80  81  82  83  84  85  86\n",
      "  87  88  89  90  91  92  93  94  95  96  97  98  99 100]\n"
     ]
    }
   ],
   "source": [
    "new_arr2=np.arange(51,101)\n",
    "print(new_arr2)"
   ]
  },
  {
   "cell_type": "code",
   "execution_count": 29,
   "id": "da8a7cc0-7dab-4677-b886-87522c3b98b8",
   "metadata": {},
   "outputs": [
    {
     "name": "stdout",
     "output_type": "stream",
     "text": [
      "[  1   2   3   4   5   6   7   8   9  10  11  12  13  14  15  16  17  18\n",
      "  19  20  21  22  23  24  25  26  27  28  29  30  31  32  33  34  35  36\n",
      "  37  38  39  40  41  42  43  44  45  46  47  48  49  50  51  52  53  54\n",
      "  55  56  57  58  59  60  61  62  63  64  65  66  67  68  69  70  71  72\n",
      "  73  74  75  76  77  78  79  80  81  82  83  84  85  86  87  88  89  90\n",
      "  91  92  93  94  95  96  97  98  99 100]\n"
     ]
    }
   ],
   "source": [
    "arr_cnct=np.concatenate((new_arr,new_arr2))\n",
    "print(arr_cnct)"
   ]
  },
  {
   "cell_type": "code",
   "execution_count": 36,
   "id": "2eb97421-1a7a-4830-9294-cca4401e024c",
   "metadata": {},
   "outputs": [
    {
     "name": "stdout",
     "output_type": "stream",
     "text": [
      "[[  1   2   3   4   5   6   7   8   9  10]\n",
      " [ 11  12  13  14  15  16  17  18  19  20]\n",
      " [ 21  22  23  24  25  26  27  28  29  30]\n",
      " [ 31  32  33  34  35  36  37  38  39  40]\n",
      " [ 41  42  43  44  45  46  47  48  49  50]\n",
      " [ 51  52  53  54  55  56  57  58  59  60]\n",
      " [ 61  62  63  64  65  66  67  68  69  70]\n",
      " [ 71  72  73  74  75  76  77  78  79  80]\n",
      " [ 81  82  83  84  85  86  87  88  89  90]\n",
      " [ 91  92  93  94  95  96  97  98  99 100]]\n"
     ]
    }
   ],
   "source": [
    "new_shape=arr_cnct.reshape((10,10))\n",
    "print(new_shape)"
   ]
  },
  {
   "cell_type": "markdown",
   "id": "d017b75a-1b5d-48c5-bf51-d7052020dd5c",
   "metadata": {},
   "source": [
    "The goal of this exercise is to learn to access values of n-dimensional arrays efficiently."
   ]
  },
  {
   "cell_type": "markdown",
   "id": "238b214f-220b-4e02-b2e4-0a4bb117a2bf",
   "metadata": {},
   "source": [
    "1. Generate a 2-dimensional array of size 9x9, with all elements initialized to 1 and of type int8.\n",
    "\n"
   ]
  },
  {
   "cell_type": "code",
   "execution_count": 209,
   "id": "97bc075e-57ea-40e9-b77a-755015766fd3",
   "metadata": {},
   "outputs": [
    {
     "name": "stdout",
     "output_type": "stream",
     "text": [
      "[[1 1 1 1 1 1 1 1 1]\n",
      " [1 1 1 1 1 1 1 1 1]\n",
      " [1 1 1 1 1 1 1 1 1]\n",
      " [1 1 1 1 1 1 1 1 1]\n",
      " [1 1 1 1 1 1 1 1 1]\n",
      " [1 1 1 1 1 1 1 1 1]\n",
      " [1 1 1 1 1 1 1 1 1]\n",
      " [1 1 1 1 1 1 1 1 1]\n",
      " [1 1 1 1 1 1 1 1 1]]\n"
     ]
    }
   ],
   "source": [
    "arr_2dim=np.ones((9,9),dtype=\"int8\")\n",
    "print(arr_2dim)"
   ]
  },
  {
   "cell_type": "markdown",
   "id": "f07ea50e-4576-4da6-9e7b-54a2f8da5843",
   "metadata": {},
   "source": [
    "2. Using slicing, create the following array:"
   ]
  },
  {
   "cell_type": "code",
   "execution_count": 211,
   "id": "35361465-6669-49da-a8d9-2e3358f00d83",
   "metadata": {},
   "outputs": [
    {
     "name": "stdout",
     "output_type": "stream",
     "text": [
      "[[1 1 1 1 1 1 1 1 1]\n",
      " [1 0 0 0 0 0 0 0 1]\n",
      " [1 0 1 1 1 1 1 0 1]\n",
      " [1 0 1 0 0 0 1 0 1]\n",
      " [1 0 1 0 1 0 1 0 1]\n",
      " [1 0 1 0 0 0 1 0 1]\n",
      " [1 0 1 1 1 1 1 0 1]\n",
      " [1 0 0 0 0 0 0 0 1]\n",
      " [1 1 1 1 1 1 1 1 1]]\n"
     ]
    }
   ],
   "source": [
    "arr_2dim[1:8:2, 1:8] = 0 \n",
    "arr_2dim[1:8, 1:8:2] = 0\n",
    "arr_2dim[2:7:2, 2:7] = 1  \n",
    "arr_2dim[2:7, 2:7:2] = 1\n",
    "arr_2dim[3:6, 3:6:2] = 0\n",
    "arr_2dim[3:6:2, 3:6] = 0\n",
    "\n",
    "print(arr_2dim)"
   ]
  },
  {
   "cell_type": "markdown",
   "id": "5fb196a7-8f30-49d4-981f-a6f9cec28795",
   "metadata": {},
   "source": [
    "3. Using broadcasting create an output matrix based on the following two arrays:"
   ]
  },
  {
   "cell_type": "code",
   "execution_count": 230,
   "id": "5b686646-a4c5-4353-bd2d-19f6163c436c",
   "metadata": {},
   "outputs": [
    {
     "name": "stdout",
     "output_type": "stream",
     "text": [
      "[[ 1  2  3]\n",
      " [ 2  4  6]\n",
      " [ 3  6  9]\n",
      " [ 4  8 12]\n",
      " [ 5 10 15]]\n"
     ]
    }
   ],
   "source": [
    "array_1 = np.array([1,2,3,4,5], dtype=np.int8)\n",
    "array_2 = np.array([1,2,3], dtype=np.int8)\n",
    "result = array_1[:, np.newaxis] * array_2\n",
    "print(result)"
   ]
  },
  {
   "cell_type": "markdown",
   "id": "b0e5c762-2e77-48ef-8904-1611c44a9309",
   "metadata": {},
   "source": [
    "The goal of this exercise is to handle missing data in NumPy and manipulate arrays effectively.\r\n",
    "\r\n",
    "Let's consider a 2-dimensional array containing grades from the last two exams. Some students missed the first exam, so their grades are replaced with NaN.\r\n",
    "\r\n",
    "To simulate this scenario, we'll create a mock dataset using NumPy. Here's a snippet of code to generate this dataset:"
   ]
  },
  {
   "cell_type": "code",
   "execution_count": 244,
   "id": "80f0bb7b-ac04-4a35-941c-0fd18857aba9",
   "metadata": {},
   "outputs": [
    {
     "name": "stdout",
     "output_type": "stream",
     "text": [
      "[[ 7.  1.]\n",
      " [nan  2.]\n",
      " [nan  8.]\n",
      " [ 9.  3.]\n",
      " [ 8.  9.]\n",
      " [nan  2.]\n",
      " [ 8.  2.]\n",
      " [nan  6.]\n",
      " [ 9.  2.]\n",
      " [ 8.  5.]]\n"
     ]
    }
   ],
   "source": [
    "generator = np.random.default_rng(123)\n",
    "grades = np.round(generator.uniform(low = 0.0, high = 10.0, size = (10, 2)))\n",
    "grades[[1,2,5,7], [0,0,0,0]] = np.nan\n",
    "print(grades)"
   ]
  },
  {
   "cell_type": "markdown",
   "id": "b445de2f-c3a8-4c8d-9ad3-265e27759499",
   "metadata": {},
   "source": [
    "1. Using np.where, create a third column that takes the grade of the first exam if available; otherwise, it uses the grade from the second exam. Add this column as the third column of the array."
   ]
  },
  {
   "cell_type": "code",
   "execution_count": 280,
   "id": "5fffdde1-582d-45b2-bc98-311b105eba04",
   "metadata": {},
   "outputs": [
    {
     "name": "stdout",
     "output_type": "stream",
     "text": [
      "[[7.]\n",
      " [2.]\n",
      " [8.]\n",
      " [9.]\n",
      " [8.]\n",
      " [2.]\n",
      " [8.]\n",
      " [6.]\n",
      " [9.]\n",
      " [8.]]\n"
     ]
    }
   ],
   "source": [
    "cnct=(np.where(np.isnan(grades[:,0]), grades[:,1],grades[:,0])).reshape(-1,1)\n",
    "print(cnct)"
   ]
  },
  {
   "cell_type": "code",
   "execution_count": 284,
   "id": "5c21feaa-fdf3-4ef4-b488-22aa52cddff0",
   "metadata": {},
   "outputs": [
    {
     "name": "stdout",
     "output_type": "stream",
     "text": [
      "[[ 7.  1.  7.]\n",
      " [nan  2.  2.]\n",
      " [nan  8.  8.]\n",
      " [ 9.  3.  9.]\n",
      " [ 8.  9.  8.]\n",
      " [nan  2.  2.]\n",
      " [ 8.  2.  8.]\n",
      " [nan  6.  6.]\n",
      " [ 9.  2.  9.]\n",
      " [ 8.  5.  8.]]\n"
     ]
    }
   ],
   "source": [
    "fin= np.append(grades, cnct, axis=1)\n",
    "print(fin)"
   ]
  },
  {
   "cell_type": "markdown",
   "id": "8cfbe37f-44b4-4294-9df3-32b3b6fa7c94",
   "metadata": {},
   "source": [
    "The goal of this exercise is to perform fundamental data analysis on real data using NumPy.\n",
    "\n",
    "The dataset chosen for this task was the red wine dataset. You can find more info HERE"
   ]
  },
  {
   "cell_type": "markdown",
   "id": "1672df86-c267-4c33-863f-4f58c83a7aa9",
   "metadata": {},
   "source": [
    "1. Load the data using genfromtxt, specifying the delimiter as ';', and optimize the numpy array size by reducing the data types. Use np.float32 and verify that the resulting numpy array weighs 76800 bytes.\n",
    "\n"
   ]
  },
  {
   "cell_type": "code",
   "execution_count": 127,
   "id": "78d39b4a-b916-49da-9c38-297537ca102a",
   "metadata": {},
   "outputs": [
    {
     "name": "stdout",
     "output_type": "stream",
     "text": [
      "[[   nan    nan    nan ...    nan    nan    nan]\n",
      " [ 7.4    0.7    0.    ...  0.56   9.4    5.   ]\n",
      " [ 7.8    0.88   0.    ...  0.68   9.8    5.   ]\n",
      " ...\n",
      " [ 6.3    0.51   0.13  ...  0.75  11.     6.   ]\n",
      " [ 5.9    0.645  0.12  ...  0.71  10.2    5.   ]\n",
      " [ 6.     0.31   0.47  ...  0.66  11.     6.   ]]\n"
     ]
    }
   ],
   "source": [
    "data=np.genfromtxt(\"winequality-red.txt\", dtype=np.float32,delimiter=\";\",)\n",
    "print(data)"
   ]
  },
  {
   "cell_type": "code",
   "execution_count": 313,
   "id": "f8e53cac-7723-4fab-b66e-796da50fed3c",
   "metadata": {},
   "outputs": [
    {
     "data": {
      "text/plain": [
       "76800"
      ]
     },
     "execution_count": 313,
     "metadata": {},
     "output_type": "execute_result"
    }
   ],
   "source": [
    "data.nbytes"
   ]
  },
  {
   "cell_type": "markdown",
   "id": "04e26cb3-7f2a-40a5-8337-ccb05225165e",
   "metadata": {},
   "source": [
    "2. Display the 2nd, 7th, and 12th rows as a two-dimensional array. Exclude np.nan values if present."
   ]
  },
  {
   "cell_type": "code",
   "execution_count": 23,
   "id": "ef26df85-a84c-4e56-be0e-a15d69e4875d",
   "metadata": {},
   "outputs": [
    {
     "name": "stdout",
     "output_type": "stream",
     "text": [
      "[[7.800e+00 8.800e-01 0.000e+00 2.600e+00 9.800e-02 2.500e+01 6.700e+01\n",
      "  9.968e-01 3.200e+00 6.800e-01 9.800e+00 5.000e+00]\n",
      " [7.900e+00 6.000e-01 6.000e-02 1.600e+00 6.900e-02 1.500e+01 5.900e+01\n",
      "  9.964e-01 3.300e+00 4.600e-01 9.400e+00 5.000e+00]\n",
      " [7.500e+00 5.000e-01 3.600e-01 6.100e+00 7.100e-02 1.700e+01 1.020e+02\n",
      "  9.978e-01 3.350e+00 8.000e-01 1.050e+01 5.000e+00]]\n"
     ]
    }
   ],
   "source": [
    "data_arr=data[2:13:5,:]\n",
    "print(data_arr)"
   ]
  },
  {
   "cell_type": "code",
   "execution_count": 27,
   "id": "69b9adfa-862a-400c-9191-8d58ec18af3a",
   "metadata": {},
   "outputs": [
    {
     "name": "stdout",
     "output_type": "stream",
     "text": [
      "[[7.800e+00 8.800e-01 0.000e+00 2.600e+00 9.800e-02 2.500e+01 6.700e+01\n",
      "  9.968e-01 3.200e+00 6.800e-01 9.800e+00 5.000e+00]\n",
      " [7.900e+00 6.000e-01 6.000e-02 1.600e+00 6.900e-02 1.500e+01 5.900e+01\n",
      "  9.964e-01 3.300e+00 4.600e-01 9.400e+00 5.000e+00]\n",
      " [7.500e+00 5.000e-01 3.600e-01 6.100e+00 7.100e-02 1.700e+01 1.020e+02\n",
      "  9.978e-01 3.350e+00 8.000e-01 1.050e+01 5.000e+00]]\n"
     ]
    }
   ],
   "source": [
    "d=data_arr[~np.isnan(data_arr).any(axis=1)]\n",
    "print(d)"
   ]
  },
  {
   "cell_type": "markdown",
   "id": "22923b68-6a38-4bc3-a0b1-84a43f9a03cd",
   "metadata": {},
   "source": [
    "3. Determine if there is any wine in the dataset with an alcohol percentage greater than 20%. Return True or False."
   ]
  },
  {
   "cell_type": "code",
   "execution_count": 20,
   "id": "4cb44bb5-7b44-4cbf-b626-9285204e8aad",
   "metadata": {},
   "outputs": [
    {
     "data": {
      "text/plain": [
       "False"
      ]
     },
     "execution_count": 20,
     "metadata": {},
     "output_type": "execute_result"
    }
   ],
   "source": [
    "np.where(data[:,10]>20,True,False).any()"
   ]
  },
  {
   "cell_type": "markdown",
   "id": "cba50d9f-dbd6-45ea-901d-264993cd3ab8",
   "metadata": {},
   "source": [
    "4. Calculate the average alcohol percentage across all wines in the dataset. Exclude np.nan values if present."
   ]
  },
  {
   "cell_type": "code",
   "execution_count": 69,
   "id": "d2b651b4-6d4e-4b13-8e47-d3b1c48a483e",
   "metadata": {},
   "outputs": [
    {
     "data": {
      "text/plain": [
       "10.422984"
      ]
     },
     "execution_count": 69,
     "metadata": {},
     "output_type": "execute_result"
    }
   ],
   "source": [
    "np.average(data[0:,10][~np.isnan(data[0:,10])])"
   ]
  },
  {
   "cell_type": "code",
   "execution_count": 71,
   "id": "3287b8ae-c57f-4943-8c4c-df77c73386d3",
   "metadata": {},
   "outputs": [
    {
     "data": {
      "text/plain": [
       "10.422983"
      ]
     },
     "execution_count": 71,
     "metadata": {},
     "output_type": "execute_result"
    }
   ],
   "source": [
    "np.nanmean(data[0:, 10])"
   ]
  },
  {
   "cell_type": "code",
   "execution_count": 39,
   "id": "36464e86-7d91-46b4-b5d2-29d64d499959",
   "metadata": {},
   "outputs": [
    {
     "name": "stdout",
     "output_type": "stream",
     "text": [
      "[ nan  9.4  9.8 ... 11.  10.2 11. ]\n"
     ]
    }
   ],
   "source": [
    "print(data[:, 10])\n"
   ]
  },
  {
   "cell_type": "markdown",
   "id": "aa068d70-7b27-45a5-92af-0bbe4f765274",
   "metadata": {},
   "source": [
    "5. Compute various statistical measures (minimum, maximum, 25th percentile, 50th percentile, 75th percentile and the mean for the pH values)."
   ]
  },
  {
   "cell_type": "code",
   "execution_count": 92,
   "id": "63d93afb-235f-41bd-b9a2-b921dc8fabf6",
   "metadata": {},
   "outputs": [
    {
     "name": "stdout",
     "output_type": "stream",
     "text": [
      "3.309999942779541 3.2100000381469727 3.4000000953674316\n"
     ]
    }
   ],
   "source": [
    "perc50=np.percentile(data[0:,8][~np.isnan(data[0:,8])], 50, axis=0)\n",
    "perc25=np.percentile(data[0:,8][~np.isnan(data[0:,8])], 25, axis=0)\n",
    "perc75=np.percentile(data[0:,8][~np.isnan(data[0:,8])], 75, axis=0)\n",
    "print(perc50, perc25, perc75)"
   ]
  },
  {
   "cell_type": "code",
   "execution_count": 96,
   "id": "d65ef4cd-dc93-4342-b799-b03b68d467b7",
   "metadata": {},
   "outputs": [
    {
     "data": {
      "text/plain": [
       "3.3111134"
      ]
     },
     "execution_count": 96,
     "metadata": {},
     "output_type": "execute_result"
    }
   ],
   "source": [
    "np.mean(data[0:,8][~np.isnan(data[0:,8])])"
   ]
  },
  {
   "cell_type": "code",
   "execution_count": 98,
   "id": "d4dfd407-3960-4375-bbd5-047ca9d2e88e",
   "metadata": {},
   "outputs": [
    {
     "data": {
      "text/plain": [
       "2.74"
      ]
     },
     "execution_count": 98,
     "metadata": {},
     "output_type": "execute_result"
    }
   ],
   "source": [
    "np.min(data[0:,8][~np.isnan(data[0:,8])])"
   ]
  },
  {
   "cell_type": "code",
   "execution_count": 100,
   "id": "ba21d55d-a57a-4452-ad1f-959febe11ae8",
   "metadata": {},
   "outputs": [
    {
     "data": {
      "text/plain": [
       "4.01"
      ]
     },
     "execution_count": 100,
     "metadata": {},
     "output_type": "execute_result"
    }
   ],
   "source": [
    "np.max(data[0:,8][~np.isnan(data[0:,8])])"
   ]
  },
  {
   "cell_type": "markdown",
   "id": "9b032818-888a-4f4e-9a1a-8c783e54ae53",
   "metadata": {},
   "source": [
    "6. Find the average quality score of wines with the 20% least sulphate content.\n"
   ]
  },
  {
   "cell_type": "code",
   "execution_count": 135,
   "id": "5990c7a1-9a64-4053-b00e-946c3c510e8b",
   "metadata": {},
   "outputs": [],
   "source": [
    "sulph=data[:,9][~np.isnan(data[0:,9])]\n",
    "quality=data[:,11][~np.isnan(data[0:,11])]\n",
    "sulph_20=np.percentile(sulph,20, axis=0)"
   ]
  },
  {
   "cell_type": "code",
   "execution_count": 137,
   "id": "25577e0d-a271-46d3-a6f9-e6443ba95815",
   "metadata": {},
   "outputs": [
    {
     "name": "stdout",
     "output_type": "stream",
     "text": [
      "0.5400000214576721\n"
     ]
    }
   ],
   "source": [
    "print(sulph_20)"
   ]
  },
  {
   "cell_type": "code",
   "execution_count": 139,
   "id": "965e9541-ca1d-48a3-885e-40c753597c06",
   "metadata": {},
   "outputs": [],
   "source": [
    "low_sulph_quality=quality[sulph<=sulph_20]\n",
    "avg_low_sulph=np.mean(low_sulph_quality)"
   ]
  },
  {
   "cell_type": "code",
   "execution_count": 141,
   "id": "e985b779-3cf1-4689-9e8b-4e72ba7e21d3",
   "metadata": {},
   "outputs": [
    {
     "name": "stdout",
     "output_type": "stream",
     "text": [
      "5.216216\n"
     ]
    }
   ],
   "source": [
    "print(avg_low_sulph)"
   ]
  },
  {
   "cell_type": "markdown",
   "id": "23b85153-d0a4-4fd6-889e-6b305891e6a3",
   "metadata": {},
   "source": [
    "7. Compute the mean of all variables for wines with the best quality. Also, do the same for wines with the worst quality."
   ]
  },
  {
   "cell_type": "code",
   "execution_count": 164,
   "id": "3fd4b4a8-e57e-46d3-9f36-801f4964ced2",
   "metadata": {},
   "outputs": [
    {
     "name": "stdout",
     "output_type": "stream",
     "text": [
      "7.0\n"
     ]
    }
   ],
   "source": [
    "best=np.percentile(data[0:,11][~np.isnan(data[0:,11])], 90, axis=0)\n",
    "print(best)"
   ]
  },
  {
   "cell_type": "code",
   "execution_count": 168,
   "id": "ef1a2afe-4e0c-4cae-ad0f-f8a4978ad3d4",
   "metadata": {},
   "outputs": [
    {
     "name": "stdout",
     "output_type": "stream",
     "text": [
      "5.0\n"
     ]
    }
   ],
   "source": [
    "worst=np.percentile(data[0:,11][~np.isnan(data[0:,11])], 10, axis=0)\n",
    "print(worst)"
   ]
  },
  {
   "cell_type": "code",
   "execution_count": 212,
   "id": "a59b0b52-a85a-4547-a976-0768b3ac9556",
   "metadata": {},
   "outputs": [
    {
     "data": {
      "text/plain": [
       "array([ 8.847004  ,  0.40553004,  0.3764977 ,  2.7087555 ,  0.07591248,\n",
       "       13.981566  , 34.8894    ,  0.99603045,  3.2888021 ,  0.7434562 ,\n",
       "       11.518052  ,  7.082949  ], dtype=float32)"
      ]
     },
     "execution_count": 212,
     "metadata": {},
     "output_type": "execute_result"
    }
   ],
   "source": [
    "np.mean(data[best<=data[0:,11]], axis=0 )"
   ]
  },
  {
   "cell_type": "code",
   "execution_count": 214,
   "id": "1ba0c2a5-6859-4e9b-9bde-fd596794913a",
   "metadata": {},
   "outputs": [
    {
     "data": {
      "text/plain": [
       "array([ 8.14221   ,  0.58950305,  0.23775515,  2.5420709 ,  0.0929893 ,\n",
       "       16.567204  , 54.64516   ,  0.9970677 ,  3.3116534 ,  0.6185347 ,\n",
       "        9.926473  ,  4.9018817 ], dtype=float32)"
      ]
     },
     "execution_count": 214,
     "metadata": {},
     "output_type": "execute_result"
    }
   ],
   "source": [
    "np.mean(data[worst>=data[0:,11]], axis=0 )"
   ]
  },
  {
   "cell_type": "markdown",
   "id": "c8d304ff-970b-4607-aeb4-cb72cc307188",
   "metadata": {},
   "source": [
    "This exercise focuses on utilizing permutations and complex computations.\n",
    "\n"
   ]
  },
  {
   "cell_type": "markdown",
   "id": "7f7fe77b-d9fa-4672-b8b6-67488bcfb427",
   "metadata": {},
   "source": [
    "A Football tournament is underway in your city involving 10 teams. The tournament director seeks an engaging first round and has delegated the pairing decisions to you.\n",
    "\n",
    "Leveraging your expertise as a former data scientist, you've developed a predictive model based on teams' current season performance. This model forecasts the score difference between any two teams.\n",
    "\n",
    "The model generates a 2-dimensional array stored in model_forecasts.txt. Each (i, j) entry in this matrix signifies the predicted score difference between Team i and Team j.\n",
    "\n",
    "The objective is to determine the pairs that will result in the most interesting matches.\n",
    "\n",
    "If a team wins 7-1 the match is obviously less exciting than a match where the winner wins 2-1. The criteria that corresponds to the pairs that will give the most interesting matches is the pairs that minimize the sum of squared differences"
   ]
  },
  {
   "cell_type": "code",
   "execution_count": 234,
   "id": "c720e9c7-fc74-42bd-b6c3-44b2eb3858d6",
   "metadata": {},
   "outputs": [],
   "source": [
    "forecast=np.genfromtxt(\"model_forecasts.txt\", dtype=np.float32,delimiter=\",\",)\n"
   ]
  },
  {
   "cell_type": "code",
   "execution_count": 236,
   "id": "7436849a-192e-4128-a75a-9d06bd99ead0",
   "metadata": {},
   "outputs": [
    {
     "name": "stdout",
     "output_type": "stream",
     "text": [
      "[[  nan -2.3  -4.59 -4.83  3.13  4.13  1.07  2.29  0.44  4.35]\n",
      " [ 2.3    nan  3.57 -4.66  2.3  -3.24  3.63  0.41 -2.   -0.77]\n",
      " [ 4.59 -3.57   nan  1.47  1.15 -1.16  4.97  4.81  1.86  1.5 ]\n",
      " [ 4.83  4.66 -1.47   nan  0.25 -1.9  -0.14  3.89  4.34 -1.42]\n",
      " [-3.13 -2.3  -1.15 -0.25   nan  3.9  -2.73  1.23 -4.16  3.33]\n",
      " [-4.13  3.24  1.16  1.9  -3.9    nan -0.5   2.96 -2.69 -4.48]\n",
      " [-1.07 -3.63 -4.97  0.14  2.73  0.5    nan  4.42 -1.35 -3.95]\n",
      " [-2.29 -0.41 -4.81 -3.89 -1.23 -2.96 -4.42   nan  4.49 -0.4 ]\n",
      " [-0.44  2.   -1.86 -4.34  4.16  2.69  1.35 -4.49   nan  2.29]\n",
      " [-4.35  0.77 -1.5   1.42 -3.33  4.48  3.95  0.4  -2.29   nan]]\n"
     ]
    }
   ],
   "source": [
    "print(np.matrix(forecast))"
   ]
  },
  {
   "cell_type": "code",
   "execution_count": 240,
   "id": "f790e417-70cb-47c8-938f-10a509e14f00",
   "metadata": {},
   "outputs": [
    {
     "name": "stdout",
     "output_type": "stream",
     "text": [
      "[[          nan 5.2900000e+00 2.1068102e+01 2.3328899e+01 9.7969007e+00\n",
      "  1.7056900e+01 1.1449001e+00 5.2440996e+00 1.9360000e-01 1.8922499e+01]\n",
      " [5.2900000e+00           nan 1.2744900e+01 2.1715599e+01 5.2900000e+00\n",
      "  1.0497600e+01 1.3176901e+01 1.6810000e-01 4.0000000e+00 5.9289998e-01]\n",
      " [2.1068102e+01 1.2744900e+01           nan 2.1609001e+00 1.3225000e+00\n",
      "  1.3455999e+00 2.4700897e+01 2.3136099e+01 3.4596000e+00 2.2500000e+00]\n",
      " [2.3328899e+01 2.1715599e+01 2.1609001e+00           nan 6.2500000e-02\n",
      "  3.6099999e+00 1.9600000e-02 1.5132101e+01 1.8835602e+01 2.0163999e+00]\n",
      " [9.7969007e+00 5.2900000e+00 1.3225000e+00 6.2500000e-02           nan\n",
      "  1.5210001e+01 7.4528999e+00 1.5129000e+00 1.7305599e+01 1.1088900e+01]\n",
      " [1.7056900e+01 1.0497600e+01 1.3455999e+00 3.6099999e+00 1.5210001e+01\n",
      "            nan 2.5000000e-01 8.7616005e+00 7.2361002e+00 2.0070400e+01]\n",
      " [1.1449001e+00 1.3176901e+01 2.4700897e+01 1.9600000e-02 7.4528999e+00\n",
      "  2.5000000e-01           nan 1.9536400e+01 1.8225001e+00 1.5602500e+01]\n",
      " [5.2440996e+00 1.6810000e-01 2.3136099e+01 1.5132101e+01 1.5129000e+00\n",
      "  8.7616005e+00 1.9536400e+01           nan 2.0160097e+01 1.6000001e-01]\n",
      " [1.9360000e-01 4.0000000e+00 3.4596000e+00 1.8835602e+01 1.7305599e+01\n",
      "  7.2361002e+00 1.8225001e+00 2.0160097e+01           nan 5.2440996e+00]\n",
      " [1.8922499e+01 5.9289998e-01 2.2500000e+00 2.0163999e+00 1.1088900e+01\n",
      "  2.0070400e+01 1.5602500e+01 1.6000001e-01 5.2440996e+00           nan]]\n"
     ]
    }
   ],
   "source": [
    "sqrt_dif=forecast**2\n",
    "print(sqrt_dif)"
   ]
  },
  {
   "cell_type": "code",
   "execution_count": 246,
   "id": "1df038a3-0477-4791-af3c-161c478a94f4",
   "metadata": {},
   "outputs": [],
   "source": [
    "sorted=np.argsort(sqrt_dif, axis=None)"
   ]
  },
  {
   "cell_type": "code",
   "execution_count": 248,
   "id": "1deddfbb-f969-45ac-bd6c-c37c03a7b1c0",
   "metadata": {},
   "outputs": [
    {
     "name": "stdout",
     "output_type": "stream",
     "text": [
      "[36 63 34 43 79 97 71 17 80  8 65 56 91 19  6 60 42 24 52 25 47 74 86 68\n",
      " 93 39 23 32 92 29 82 28 53 35 81 18 98 89  7 70 41 14 10  1 58 85 46 64\n",
      " 75 57 40  4 15 51 49 94 12 21 16 61 73 37 45 54 96 69  5 50 84 48 38 83\n",
      " 90  9 76 67 95 59 78 87  2 20 31 13 27 72  3 30 26 62  0 77 66 55 44 33\n",
      " 22 11 88 99]\n"
     ]
    }
   ],
   "source": [
    "print(sorted)"
   ]
  },
  {
   "cell_type": "code",
   "execution_count": 254,
   "id": "3424b500-7cc1-4eae-8bc7-69ab505a3158",
   "metadata": {},
   "outputs": [
    {
     "name": "stdout",
     "output_type": "stream",
     "text": [
      "0.0196 0.0196 0.0625 0.0625 0.16000001\n"
     ]
    }
   ],
   "source": [
    "print(sqrt_dif[3,6], sqrt_dif[6,3], sqrt_dif[3,4], sqrt_dif[4,3], sqrt_dif[7,9])"
   ]
  },
  {
   "cell_type": "code",
   "execution_count": 263,
   "id": "ee881b7b-b0da-4bd3-949c-9075b27c4017",
   "metadata": {},
   "outputs": [],
   "source": [
    "rows, cols = np.unravel_index(sorted, (10,10))\n"
   ]
  },
  {
   "cell_type": "code",
   "execution_count": 279,
   "id": "492e7147-2d22-40ce-98bc-c6918cc2725c",
   "metadata": {},
   "outputs": [],
   "source": [
    "index_sorted=np.column_stack((rows,cols))"
   ]
  },
  {
   "cell_type": "code",
   "execution_count": 291,
   "id": "6d183bf4-342b-4112-ad38-bd24b8ccf738",
   "metadata": {},
   "outputs": [],
   "source": [
    "result=index_sorted[:5,].reshape(2,5)"
   ]
  },
  {
   "cell_type": "code",
   "execution_count": 293,
   "id": "ba7e8a6f-4b02-4c67-a093-0604bf7903e2",
   "metadata": {},
   "outputs": [
    {
     "name": "stdout",
     "output_type": "stream",
     "text": [
      "[[3 6 6 3 3]\n",
      " [4 4 3 7 9]]\n"
     ]
    }
   ],
   "source": [
    "print(result)"
   ]
  },
  {
   "cell_type": "code",
   "execution_count": null,
   "id": "4ca8558b-3004-4cc6-b9c7-749805c0c361",
   "metadata": {},
   "outputs": [],
   "source": []
  }
 ],
 "metadata": {
  "kernelspec": {
   "display_name": "Python 3 (ipykernel)",
   "language": "python",
   "name": "python3"
  },
  "language_info": {
   "codemirror_mode": {
    "name": "ipython",
    "version": 3
   },
   "file_extension": ".py",
   "mimetype": "text/x-python",
   "name": "python",
   "nbconvert_exporter": "python",
   "pygments_lexer": "ipython3",
   "version": "3.11.7"
  }
 },
 "nbformat": 4,
 "nbformat_minor": 5
}
